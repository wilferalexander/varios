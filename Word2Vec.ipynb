{
  "nbformat": 4,
  "nbformat_minor": 0,
  "metadata": {
    "colab": {
      "provenance": [],
      "authorship_tag": "ABX9TyMSMvxifOddybAH0Sey85rW",
      "include_colab_link": true
    },
    "kernelspec": {
      "name": "python3",
      "display_name": "Python 3"
    },
    "language_info": {
      "name": "python"
    }
  },
  "cells": [
    {
      "cell_type": "markdown",
      "metadata": {
        "id": "view-in-github",
        "colab_type": "text"
      },
      "source": [
        "<a href=\"https://colab.research.google.com/github/wilferalexander/varios/blob/main/Word2Vec.ipynb\" target=\"_parent\"><img src=\"https://colab.research.google.com/assets/colab-badge.svg\" alt=\"Open In Colab\"/></a>"
      ]
    },
    {
      "cell_type": "code",
      "execution_count": 1,
      "metadata": {
        "colab": {
          "base_uri": "https://localhost:8080/"
        },
        "id": "JtOmQv85_LSI",
        "outputId": "f2cf3fe2-3136-46a2-dd19-cc86a0191002"
      },
      "outputs": [
        {
          "output_type": "stream",
          "name": "stdout",
          "text": [
            "Requirement already satisfied: gensim in /usr/local/lib/python3.10/dist-packages (4.3.3)\n",
            "Requirement already satisfied: numpy<2.0,>=1.18.5 in /usr/local/lib/python3.10/dist-packages (from gensim) (1.26.4)\n",
            "Requirement already satisfied: scipy<1.14.0,>=1.7.0 in /usr/local/lib/python3.10/dist-packages (from gensim) (1.13.1)\n",
            "Requirement already satisfied: smart-open>=1.8.1 in /usr/local/lib/python3.10/dist-packages (from gensim) (7.0.5)\n",
            "Requirement already satisfied: wrapt in /usr/local/lib/python3.10/dist-packages (from smart-open>=1.8.1->gensim) (1.16.0)\n"
          ]
        }
      ],
      "source": [
        "pip install gensim"
      ]
    },
    {
      "cell_type": "code",
      "source": [
        "import nltk\n",
        "nltk.download('punkt')"
      ],
      "metadata": {
        "colab": {
          "base_uri": "https://localhost:8080/"
        },
        "id": "Tyc3UAZ8_zRG",
        "outputId": "c8a4bbd9-f29a-4f88-ff49-5ee7891bf9f0"
      },
      "execution_count": 4,
      "outputs": [
        {
          "output_type": "stream",
          "name": "stderr",
          "text": [
            "[nltk_data] Downloading package punkt to /root/nltk_data...\n",
            "[nltk_data]   Unzipping tokenizers/punkt.zip.\n"
          ]
        },
        {
          "output_type": "execute_result",
          "data": {
            "text/plain": [
              "True"
            ]
          },
          "metadata": {},
          "execution_count": 4
        }
      ]
    },
    {
      "cell_type": "code",
      "source": [
        "from gensim.models import Word2Vec\n",
        "from nltk.tokenize import word_tokenize\n",
        "\n",
        "# Ejemplo de texto\n",
        "texto = \"El rey y la reina viven en el castillo. El príncipe y la princesa también viven allí.\"\n",
        "\n",
        "# Tokenizar el texto\n",
        "palabras = word_tokenize(texto.lower())\n",
        "\n",
        "# Crear el modelo Word2Vec\n",
        "modelo = Word2Vec([palabras], vector_size=100, window=5, min_count=1, workers=4)\n",
        "\n",
        "# Obtener el vector de una palabra\n",
        "vector_rey = modelo.wv['rey']\n",
        "print(\"Vector para 'rey':\")\n",
        "print(vector_rey)\n",
        "\n",
        "# Encontrar palabras similares\n",
        "similares_a_rey = modelo.wv.most_similar('rey')\n",
        "print(\"\\nPalabras similares a 'rey':\")\n",
        "print(similares_a_rey)"
      ],
      "metadata": {
        "colab": {
          "base_uri": "https://localhost:8080/"
        },
        "id": "Bd429h9p_PSz",
        "outputId": "83a0a7f1-0d82-4f71-e1d6-01cd16bcbd3b"
      },
      "execution_count": 5,
      "outputs": [
        {
          "output_type": "stream",
          "name": "stdout",
          "text": [
            "Vector para 'rey':\n",
            "[-1.9464252e-03 -5.2680657e-03  9.4467690e-03 -9.2987381e-03\n",
            "  4.5022191e-03  5.4027881e-03 -1.4087302e-03  9.0090185e-03\n",
            "  9.8838843e-03 -5.4771309e-03 -6.0214233e-03 -6.7481827e-03\n",
            " -7.8967111e-03 -3.0487920e-03 -5.5950517e-03 -8.3449315e-03\n",
            "  7.8293349e-04  2.9930274e-03  6.4147632e-03 -2.6306247e-03\n",
            " -4.4544800e-03  1.2501291e-03  3.9275250e-04  8.1177158e-03\n",
            "  1.8309288e-04  7.2307633e-03 -8.2654115e-03  8.4338039e-03\n",
            " -1.8894298e-03  8.7019764e-03 -7.6150927e-03  1.7955004e-03\n",
            "  1.0566773e-03  4.5306595e-05 -5.1044072e-03 -9.2458567e-03\n",
            " -7.2627678e-03 -7.9501700e-03  1.9149905e-03  4.7864733e-04\n",
            " -1.8111214e-03  7.1198302e-03 -2.4778978e-03 -1.3484345e-03\n",
            " -8.9009451e-03 -9.9255862e-03  8.9489110e-03 -5.7519688e-03\n",
            " -6.3724276e-03  5.2006287e-03  6.6707372e-03 -6.8323454e-03\n",
            "  9.6070342e-04 -6.0062660e-03  1.6465635e-03 -4.2897882e-03\n",
            " -3.4394439e-03  2.1842020e-03  8.6611090e-03  6.7276699e-03\n",
            " -9.6766232e-03 -5.6213420e-03  7.8827003e-03  1.9875863e-03\n",
            " -4.2561153e-03  5.9905823e-04  9.5208222e-03 -1.1034478e-03\n",
            " -9.4257379e-03  1.6067399e-03  6.2332838e-03  6.2841736e-03\n",
            "  4.0926635e-03 -5.6507806e-03 -3.7050343e-04 -5.5088312e-05\n",
            "  4.5709433e-03 -8.0418726e-03 -8.0175223e-03  2.6489582e-04\n",
            " -8.6073652e-03  5.8191363e-03 -4.1690766e-04  9.9709732e-03\n",
            " -5.3442479e-03 -4.8824464e-04  7.7556083e-03 -4.0669148e-03\n",
            " -5.0155157e-03  1.5912892e-03  2.6511855e-03 -2.5627131e-03\n",
            "  6.4470256e-03 -7.6599214e-03  3.3965746e-03  4.9019745e-04\n",
            "  8.7309470e-03  5.9817764e-03  6.8168421e-03  7.8225331e-03]\n",
            "\n",
            "Palabras similares a 'rey':\n",
            "[('y', 0.15017065405845642), ('en', 0.1281420737504959), ('el', 0.09290467202663422), ('viven', 0.046531837433576584), ('también', 0.0006411524373106658), ('.', -0.0036318155471235514), ('la', -0.009253273718059063), ('reina', -0.030285917222499847), ('príncipe', -0.040426719933748245), ('princesa', -0.04094232991337776)]\n"
          ]
        }
      ]
    }
  ]
}