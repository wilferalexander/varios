{
  "nbformat": 4,
  "nbformat_minor": 0,
  "metadata": {
    "colab": {
      "provenance": [],
      "authorship_tag": "ABX9TyOgTVEeW6Zm1Xgx26NxbWCb",
      "include_colab_link": true
    },
    "kernelspec": {
      "name": "python3",
      "display_name": "Python 3"
    },
    "language_info": {
      "name": "python"
    }
  },
  "cells": [
    {
      "cell_type": "markdown",
      "metadata": {
        "id": "view-in-github",
        "colab_type": "text"
      },
      "source": [
        "<a href=\"https://colab.research.google.com/github/wilferalexander/varios/blob/main/regresi%C3%B3n_log%C3%ADstica_.ipynb\" target=\"_parent\"><img src=\"https://colab.research.google.com/assets/colab-badge.svg\" alt=\"Open In Colab\"/></a>"
      ]
    },
    {
      "cell_type": "markdown",
      "source": [
        "# **🔍📈 ¿Qué es la regresión logística y cuándo se usa? **\n",
        "\n",
        "\n",
        "La regresión logística es una técnica de machine learning que se utiliza para predecir el resultado de una variable categórica (como sí/no, verdadero/falso) basada en una o más variables independientes.\n",
        "\n",
        "\n",
        "A diferencia de la regresión lineal, que predice valores continuos, la regresión logística predice probabilidades y clasificaciones.\n",
        "\n",
        "\n",
        "**¿Cómo funciona?**\n",
        "\n",
        "**Datos de entrada:**\n",
        "\n",
        "Tienes datos históricos con variables independientes (características) y una variable dependiente categórica (resultado).\n",
        "\n",
        "\n",
        "**Modelo de probabilidad:**\n",
        "\n",
        " La regresión logística utiliza una función logística (también conocida como sigmoide) para modelar la probabilidad de que un evento ocurra.\n",
        "\n",
        "\n",
        "**Clasificación**:\n",
        " Basándose en la probabilidad calculada, el modelo clasifica el resultado en una de las categorías.\n",
        "\n",
        "**Ejemplos de uso:**\n",
        "\n",
        "**Salud:**\n",
        "\n",
        "**Diagnóstico de enfermedades:**\n",
        "\n",
        " Predecir si un paciente tiene una enfermedad (sí/no) basado en síntomas y resultados de pruebas.\n",
        "\n",
        "**Finanzas:**\n",
        "\n",
        "Aprobación de crédito: Determinar si un solicitante de crédito es probable que pague o no (aprobado/rechazado) basado en su historial financiero.\n",
        "\n",
        "**Marketing:**\n",
        "\n",
        "Respuesta a campañas: Predecir si un cliente responderá a una campaña publicitaria (sí/no) basado en su historial de compras y comportamiento.\n",
        "\n",
        "**Recursos Humanos:**\n",
        "\n",
        "Retención de empleados: Predecir si un empleado dejará la empresa (sí/no) basado en factores como satisfacción laboral y desempeño.\n",
        "\n",
        "**Seguridad:**\n",
        "\n",
        "**Detección de fraudes:**\n",
        "\n",
        "Identificar transacciones fraudulentas (fraude/no fraude) basado en patrones de transacción."
      ],
      "metadata": {
        "id": "KORJ4d9ZRfzM"
      }
    },
    {
      "cell_type": "code",
      "execution_count": 1,
      "metadata": {
        "colab": {
          "base_uri": "https://localhost:8080/"
        },
        "id": "i9wdCZUeRc0W",
        "outputId": "e3b8e02d-ca66-471c-bd93-5e7169fa7317"
      },
      "outputs": [
        {
          "output_type": "stream",
          "name": "stdout",
          "text": [
            "Precisión del modelo: 1.00\n",
            "Para 7 horas de estudio, la probabilidad de aprobar es: Aprobado\n"
          ]
        },
        {
          "output_type": "stream",
          "name": "stderr",
          "text": [
            "/usr/local/lib/python3.10/dist-packages/sklearn/base.py:493: UserWarning: X does not have valid feature names, but LogisticRegression was fitted with feature names\n",
            "  warnings.warn(\n"
          ]
        }
      ],
      "source": [
        "import numpy as np\n",
        "import pandas as pd\n",
        "from sklearn.model_selection import train_test_split\n",
        "from sklearn.linear_model import LogisticRegression\n",
        "from sklearn.metrics import accuracy_score\n",
        "\n",
        "# Datos de ejemplo: Horas de estudio y aprobación del examen (1 = aprobado, 0 = no aprobado)\n",
        "data = {'HorasEstudio': [1, 2, 3, 4, 5, 6, 7, 8, 9, 10],\n",
        "        'Aprobado': [0, 0, 0, 0, 1, 1, 1, 1, 1, 1]}\n",
        "df = pd.DataFrame(data)\n",
        "\n",
        "# Variables independientes y dependiente\n",
        "X = df[['HorasEstudio']]\n",
        "y = df['Aprobado']\n",
        "\n",
        "# Dividir los datos en conjuntos de entrenamiento y prueba\n",
        "X_train, X_test, y_train, y_test = train_test_split(X, y, test_size=0.3, random_state=42)\n",
        "\n",
        "# Crear el modelo de regresión logística\n",
        "modelo = LogisticRegression()\n",
        "modelo.fit(X_train, y_train)\n",
        "\n",
        "# Predicción\n",
        "y_pred = modelo.predict(X_test)\n",
        "\n",
        "# Evaluación del modelo\n",
        "precision = accuracy_score(y_test, y_pred)\n",
        "print(f\"Precisión del modelo: {precision:.2f}\")\n",
        "\n",
        "# Predicción para un nuevo dato\n",
        "nueva_hora_estudio = np.array([[7]])\n",
        "prediccion = modelo.predict(nueva_hora_estudio)\n",
        "print(f\"Para 7 horas de estudio, la probabilidad de aprobar es: {'Aprobado' if prediccion[0] == 1 else 'No Aprobado'}\")"
      ]
    },
    {
      "cell_type": "markdown",
      "source": [
        "Este código crea un modelo de regresión logística usando datos de ejemplo (horas de estudio y aprobación del examen). Luego, predice si un estudiante que estudia 7 horas aprobará el examen y evalúa la precisión del modelo."
      ],
      "metadata": {
        "id": "i2u7VZ0BSGo0"
      }
    },
    {
      "cell_type": "code",
      "source": [],
      "metadata": {
        "id": "3sSRDzZISI02"
      },
      "execution_count": null,
      "outputs": []
    }
  ]
}