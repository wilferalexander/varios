{
  "nbformat": 4,
  "nbformat_minor": 0,
  "metadata": {
    "colab": {
      "provenance": [],
      "authorship_tag": "ABX9TyOQSTjDsf6U65od4F/J+h+V",
      "include_colab_link": true
    },
    "kernelspec": {
      "name": "python3",
      "display_name": "Python 3"
    },
    "language_info": {
      "name": "python"
    }
  },
  "cells": [
    {
      "cell_type": "markdown",
      "metadata": {
        "id": "view-in-github",
        "colab_type": "text"
      },
      "source": [
        "<a href=\"https://colab.research.google.com/github/wilferalexander/varios/blob/main/RLogistica_diagn%C3%B3stico_de_enfermedades%3F.ipynb\" target=\"_parent\"><img src=\"https://colab.research.google.com/assets/colab-badge.svg\" alt=\"Open In Colab\"/></a>"
      ]
    },
    {
      "cell_type": "markdown",
      "source": [
        "# 🔍📈 ¿Qué es la regresión logística y cómo se usa en el diagnóstico de enfermedades?\n",
        "\n",
        "La regresión logística es una técnica de machine learning que se utiliza para predecir el resultado de una variable categórica (como sí/no) basada en una o más variables independientes. En el área de la salud, puede ser una herramienta poderosa para predecir si un paciente tiene una enfermedad basándose en síntomas y resultados de pruebas.\n",
        "\n",
        "**¿Cómo funciona?**\n",
        "\n",
        "**Datos de entrada:**\n",
        " Tienes datos históricos con síntomas y resultados de pruebas de pacientes, junto con el diagnóstico (enfermedad sí/no).\n",
        "\n",
        "**Modelo de probabilidad:**\n",
        "La regresión logística utiliza una función logística (sigmoide) para modelar la probabilidad de que un paciente tenga la enfermedad.\n",
        "\n",
        "**Clasificación:**\n",
        " Basándose en la probabilidad calculada, el modelo clasifica el resultado en \"enfermedad sí\" o \"enfermedad no\".\n",
        ""
      ],
      "metadata": {
        "id": "77qmOs7wUjDm"
      }
    },
    {
      "cell_type": "code",
      "execution_count": 1,
      "metadata": {
        "colab": {
          "base_uri": "https://localhost:8080/"
        },
        "id": "VjFaZs8gMy9_",
        "outputId": "d53e4de1-89a0-4fc3-c73b-798398179fcc"
      },
      "outputs": [
        {
          "output_type": "stream",
          "name": "stdout",
          "text": [
            "Precisión del modelo: 0.33\n",
            "Para un paciente de 50 años con presión alta y colesterol alto, la probabilidad de tener la enfermedad es: 0.84\n",
            "Diagnóstico: Enfermedad\n"
          ]
        },
        {
          "output_type": "stream",
          "name": "stderr",
          "text": [
            "/usr/local/lib/python3.10/dist-packages/sklearn/base.py:493: UserWarning: X does not have valid feature names, but LogisticRegression was fitted with feature names\n",
            "  warnings.warn(\n",
            "/usr/local/lib/python3.10/dist-packages/sklearn/base.py:493: UserWarning: X does not have valid feature names, but LogisticRegression was fitted with feature names\n",
            "  warnings.warn(\n"
          ]
        }
      ],
      "source": [
        "import numpy as np\n",
        "import pandas as pd\n",
        "from sklearn.model_selection import train_test_split\n",
        "from sklearn.linear_model import LogisticRegression\n",
        "from sklearn.metrics import accuracy_score\n",
        "\n",
        "# Datos de ejemplo: Síntomas y diagnóstico (1 = enfermedad, 0 = no enfermedad)\n",
        "data = {\n",
        "    'Edad': [25, 34, 45, 52, 23, 40, 60, 48, 33, 55],\n",
        "    'Presion_Alta': [0, 1, 1, 1, 0, 1, 1, 0, 0, 1],\n",
        "    'Colesterol_Alto': [0, 1, 1, 1, 0, 1, 1, 0, 0, 1],\n",
        "    'Diagnostico': [0, 1, 1, 1, 0, 1, 1, 0, 0, 1]\n",
        "}\n",
        "df = pd.DataFrame(data)\n",
        "\n",
        "# Variables independientes y dependiente\n",
        "X = df[['Edad', 'Presion_Alta', 'Colesterol_Alto']]\n",
        "y = df['Diagnostico']\n",
        "\n",
        "# Dividir los datos en conjuntos de entrenamiento y prueba\n",
        "X_train, X_test, y_train, y_test = train_test_split(X, y, test_size=0.3, random_state=42)\n",
        "\n",
        "# Crear el modelo de regresión logística\n",
        "modelo = LogisticRegression()\n",
        "modelo.fit(X_train, y_train)\n",
        "\n",
        "# Predicción\n",
        "y_pred = modelo.predict(X_test)\n",
        "\n",
        "# Evaluación del modelo\n",
        "precision = accuracy_score(y_test, y_pred)\n",
        "print(f\"Precisión del modelo: {precision:.2f}\")\n",
        "\n",
        "# Predicción para un nuevo paciente\n",
        "nuevo_paciente = np.array([[50, 1, 1]])  # Edad 50, Presión Alta, Colesterol Alto\n",
        "prediccion = modelo.predict(nuevo_paciente)\n",
        "probabilidad = modelo.predict_proba(nuevo_paciente)\n",
        "\n",
        "print(f\"Para un paciente de 50 años con presión alta y colesterol alto, la probabilidad de tener la enfermedad es: {probabilidad[0][1]:.2f}\")\n",
        "print(f\"Diagnóstico: {'Enfermedad' if prediccion[0] == 1 else 'No Enfermedad'}\")"
      ]
    },
    {
      "cell_type": "markdown",
      "source": [
        "Este código crea un modelo de regresión logística usando datos de ejemplo (edad, presión alta, colesterol alto y diagnóstico). Luego, predice si un nuevo paciente de 50 años con presión alta y colesterol alto tiene la enfermedad y evalúa la precisión del modelo.\n",
        "\n",
        "**Resultados esperados:**\n",
        "\n",
        "**Precisión del modelo:**\n",
        "La precisión del modelo indica qué tan bien el modelo clasifica correctamente los diagnósticos.\n",
        "\n",
        "**Predicción para un nuevo paciente:**\n",
        " El modelo predice la probabilidad de que un nuevo paciente tenga la enfermedad y clasifica el diagnóstico como \"Enfermedad\" o \"No Enfermedad\".\n",
        "¡Y eso es todo! La regresión logística es una herramienta poderosa para hacer predicciones categóricas en el área de la salud. 🚀"
      ],
      "metadata": {
        "id": "dD69H9vQU8vU"
      }
    },
    {
      "cell_type": "code",
      "source": [],
      "metadata": {
        "id": "iAmidkSsU8g2"
      },
      "execution_count": null,
      "outputs": []
    }
  ]
}